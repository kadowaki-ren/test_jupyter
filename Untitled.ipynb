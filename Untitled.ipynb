{
 "cells": [
  {
   "cell_type": "code",
   "execution_count": 6,
   "id": "6851394f",
   "metadata": {},
   "outputs": [
    {
     "name": "stdout",
     "output_type": "stream",
     "text": [
      "Channels:\n",
      " - bioconda\n",
      " - conda-forge\n",
      " - defaults\n",
      " - r\n",
      "Platform: osx-64\n",
      "Collecting package metadata (repodata.json): done\n",
      "Solving environment: done\n",
      "\n",
      "## Package Plan ##\n",
      "\n",
      "  environment location: /opt/miniconda3/envs/jupyter_env\n",
      "\n",
      "  added / updated specs:\n",
      "    - numpy\n",
      "\n",
      "\n",
      "The following packages will be downloaded:\n",
      "\n",
      "    package                    |            build\n",
      "    ---------------------------|-----------------\n",
      "    libblas-3.9.0              |28_h7f60823_openblas          16 KB  conda-forge\n",
      "    libcblas-3.9.0             |28_hff6cab4_openblas          16 KB  conda-forge\n",
      "    liblapack-3.9.0            |28_h236ab99_openblas          16 KB  conda-forge\n",
      "    numpy-2.2.2                |  py312h6693b03_0         7.2 MB  conda-forge\n",
      "    ------------------------------------------------------------\n",
      "                                           Total:         7.3 MB\n",
      "\n",
      "The following NEW packages will be INSTALLED:\n",
      "\n",
      "  libblas            conda-forge/osx-64::libblas-3.9.0-28_h7f60823_openblas \n",
      "  libcblas           conda-forge/osx-64::libcblas-3.9.0-28_hff6cab4_openblas \n",
      "  libgfortran        conda-forge/osx-64::libgfortran-5.0.0-13_2_0_h97931a8_3 \n",
      "  libgfortran5       conda-forge/osx-64::libgfortran5-13.2.0-h2873a65_3 \n",
      "  liblapack          conda-forge/osx-64::liblapack-3.9.0-28_h236ab99_openblas \n",
      "  libopenblas        conda-forge/osx-64::libopenblas-0.3.28-openmp_hbf64a52_1 \n",
      "  llvm-openmp        conda-forge/osx-64::llvm-openmp-19.1.7-ha54dae1_0 \n",
      "  numpy              conda-forge/osx-64::numpy-2.2.2-py312h6693b03_0 \n",
      "\n",
      "\n",
      "\n",
      "Downloading and Extracting Packages:\n",
      "numpy-2.2.2          | 7.2 MB    |                                       |   0% \n",
      "libblas-3.9.0        | 16 KB     |                                       |   0% \u001b[A\n",
      "\n",
      "libcblas-3.9.0       | 16 KB     |                                       |   0% \u001b[A\u001b[A\n",
      "\n",
      "\n",
      "liblapack-3.9.0      | 16 KB     |                                       |   0% \u001b[A\u001b[A\u001b[A\n",
      "libblas-3.9.0        | 16 KB     | ###################################9  |  97% \u001b[A\n",
      "numpy-2.2.2          | 7.2 MB    |                                       |   0% \u001b[A\n",
      "libblas-3.9.0        | 16 KB     | ##################################### | 100% \u001b[A\n",
      "\n",
      "libcblas-3.9.0       | 16 KB     | ####################################1 |  98% \u001b[A\u001b[A\n",
      "\n",
      "\n",
      "liblapack-3.9.0      | 16 KB     | ####################################1 |  98% \u001b[A\u001b[A\u001b[A\n",
      "\n",
      "\n",
      "liblapack-3.9.0      | 16 KB     | ##################################### | 100% \u001b[A\u001b[A\u001b[A\n",
      "\n",
      "libcblas-3.9.0       | 16 KB     | ##################################### | 100% \u001b[A\u001b[A\n",
      "\n",
      "libcblas-3.9.0       | 16 KB     | ##################################### | 100% \u001b[A\u001b[A\n",
      "\n",
      "\n",
      "                                                                                \u001b[A\u001b[A\u001b[A\n",
      "                                                                                \u001b[A\n",
      "\n",
      "                                                                                \u001b[A\u001b[A\n",
      "\n",
      "\n",
      "                                                                                \u001b[A\u001b[A\u001b[A\n",
      "Preparing transaction: done\n",
      "Verifying transaction: done\n",
      "Executing transaction: done\n",
      "\n",
      "Note: you may need to restart the kernel to use updated packages.\n"
     ]
    }
   ],
   "source": [
    "conda install numpy"
   ]
  },
  {
   "cell_type": "code",
   "execution_count": 1,
   "id": "bd9ac0f4-fc7e-4703-8729-ab76ef322a72",
   "metadata": {},
   "outputs": [
    {
     "data": {
      "text/plain": [
       "7"
      ]
     },
     "execution_count": 1,
     "metadata": {},
     "output_type": "execute_result"
    }
   ],
   "source": [
    "abs(-7)"
   ]
  },
  {
   "cell_type": "code",
   "execution_count": 2,
   "id": "411b2259",
   "metadata": {},
   "outputs": [
    {
     "data": {
      "text/plain": [
       "7"
      ]
     },
     "execution_count": 2,
     "metadata": {},
     "output_type": "execute_result"
    }
   ],
   "source": [
    "abs(7)"
   ]
  },
  {
   "cell_type": "code",
   "execution_count": 3,
   "id": "a603c82a",
   "metadata": {},
   "outputs": [
    {
     "name": "stdout",
     "output_type": "stream",
     "text": [
      "Hello bio\n"
     ]
    }
   ],
   "source": [
    "test_str = 'Hello bio'\n",
    "print(test_str)"
   ]
  },
  {
   "cell_type": "code",
   "execution_count": 4,
   "id": "e50310ea",
   "metadata": {},
   "outputs": [
    {
     "data": {
      "text/plain": [
       "'Hello bio'"
      ]
     },
     "execution_count": 4,
     "metadata": {},
     "output_type": "execute_result"
    }
   ],
   "source": [
    "test_str"
   ]
  },
  {
   "cell_type": "code",
   "execution_count": 7,
   "id": "719cae82",
   "metadata": {},
   "outputs": [
    {
     "name": "stdout",
     "output_type": "stream",
     "text": [
      "2.2.2\n"
     ]
    }
   ],
   "source": [
    "import numpy as np\n",
    "print(np.__version__)"
   ]
  },
  {
   "cell_type": "code",
   "execution_count": 8,
   "id": "38f76a84",
   "metadata": {},
   "outputs": [],
   "source": [
    "array1 = np.array([[0,1],[2,3]])"
   ]
  },
  {
   "cell_type": "code",
   "execution_count": 9,
   "id": "4d88f9ee",
   "metadata": {},
   "outputs": [
    {
     "name": "stdout",
     "output_type": "stream",
     "text": [
      "[[0 1]\n",
      " [2 3]]\n"
     ]
    }
   ],
   "source": [
    "print(array1)"
   ]
  },
  {
   "cell_type": "code",
   "execution_count": 10,
   "id": "cda80ab4",
   "metadata": {},
   "outputs": [
    {
     "data": {
      "text/plain": [
       "array([[0, 1],\n",
       "       [2, 3]])"
      ]
     },
     "execution_count": 10,
     "metadata": {},
     "output_type": "execute_result"
    }
   ],
   "source": [
    "array1"
   ]
  },
  {
   "cell_type": "code",
   "execution_count": 11,
   "id": "20b14041",
   "metadata": {},
   "outputs": [
    {
     "data": {
      "text/plain": [
       "2"
      ]
     },
     "execution_count": 11,
     "metadata": {},
     "output_type": "execute_result"
    }
   ],
   "source": [
    "val_a=1\n",
    "val_b=2\n",
    "val_a\n",
    "val_b"
   ]
  },
  {
   "cell_type": "code",
   "execution_count": 12,
   "id": "580c8fbc",
   "metadata": {},
   "outputs": [
    {
     "name": "stdout",
     "output_type": "stream",
     "text": [
      "1\n",
      "2\n"
     ]
    }
   ],
   "source": [
    "print(val_a)\n",
    "print(val_b)"
   ]
  },
  {
   "cell_type": "code",
   "execution_count": 13,
   "id": "2dd241b3",
   "metadata": {},
   "outputs": [
    {
     "data": {
      "text/plain": [
       "'HELLO BIO'"
      ]
     },
     "execution_count": 13,
     "metadata": {},
     "output_type": "execute_result"
    }
   ],
   "source": [
    "'Hello Bio'.upper()"
   ]
  },
  {
   "cell_type": "code",
   "execution_count": 14,
   "id": "d1d93362",
   "metadata": {},
   "outputs": [
    {
     "data": {
      "text/plain": [
       "'HELLO INFO'"
      ]
     },
     "execution_count": 14,
     "metadata": {},
     "output_type": "execute_result"
    }
   ],
   "source": [
    "'Hello Bio'.upper().replace('BIO','INFO')"
   ]
  },
  {
   "cell_type": "code",
   "execution_count": 15,
   "id": "68124ff0",
   "metadata": {},
   "outputs": [
    {
     "data": {
      "text/plain": [
       "1"
      ]
     },
     "execution_count": 15,
     "metadata": {},
     "output_type": "execute_result"
    }
   ],
   "source": [
    "val_int = 1\n",
    "val_int"
   ]
  },
  {
   "cell_type": "code",
   "execution_count": 16,
   "id": "c25340ae",
   "metadata": {},
   "outputs": [
    {
     "data": {
      "text/plain": [
       "1.1"
      ]
     },
     "execution_count": 16,
     "metadata": {},
     "output_type": "execute_result"
    }
   ],
   "source": [
    "val_float = 1.1\n",
    "val_float"
   ]
  },
  {
   "cell_type": "code",
   "execution_count": 18,
   "id": "4dd9a292",
   "metadata": {},
   "outputs": [
    {
     "data": {
      "text/plain": [
       "'atgc'"
      ]
     },
     "execution_count": 18,
     "metadata": {},
     "output_type": "execute_result"
    }
   ],
   "source": [
    "val_str = 'atgc'\n",
    "val_str"
   ]
  },
  {
   "cell_type": "code",
   "execution_count": 19,
   "id": "a6c38ae6",
   "metadata": {},
   "outputs": [
    {
     "data": {
      "text/plain": [
       "int"
      ]
     },
     "execution_count": 19,
     "metadata": {},
     "output_type": "execute_result"
    }
   ],
   "source": [
    "type(val_int)"
   ]
  },
  {
   "cell_type": "code",
   "execution_count": 20,
   "id": "f8fb355c",
   "metadata": {},
   "outputs": [
    {
     "data": {
      "text/plain": [
       "float"
      ]
     },
     "execution_count": 20,
     "metadata": {},
     "output_type": "execute_result"
    }
   ],
   "source": [
    "type(val_float)"
   ]
  },
  {
   "cell_type": "code",
   "execution_count": 21,
   "id": "84b3affb",
   "metadata": {},
   "outputs": [
    {
     "data": {
      "text/plain": [
       "str"
      ]
     },
     "execution_count": 21,
     "metadata": {},
     "output_type": "execute_result"
    }
   ],
   "source": [
    "type(val_str)"
   ]
  },
  {
   "cell_type": "code",
   "execution_count": 22,
   "id": "588021e2",
   "metadata": {},
   "outputs": [
    {
     "data": {
      "text/plain": [
       "int"
      ]
     },
     "execution_count": 22,
     "metadata": {},
     "output_type": "execute_result"
    }
   ],
   "source": [
    "type(1)"
   ]
  },
  {
   "cell_type": "code",
   "execution_count": 23,
   "id": "d3343a6e",
   "metadata": {},
   "outputs": [
    {
     "data": {
      "text/plain": [
       "float"
      ]
     },
     "execution_count": 23,
     "metadata": {},
     "output_type": "execute_result"
    }
   ],
   "source": [
    "type(1.1)"
   ]
  },
  {
   "cell_type": "code",
   "execution_count": 24,
   "id": "2cc98935",
   "metadata": {},
   "outputs": [
    {
     "data": {
      "text/plain": [
       "str"
      ]
     },
     "execution_count": 24,
     "metadata": {},
     "output_type": "execute_result"
    }
   ],
   "source": [
    "type('atgc')"
   ]
  },
  {
   "cell_type": "code",
   "execution_count": 25,
   "id": "e05035bc",
   "metadata": {},
   "outputs": [],
   "source": [
    "num_int = 100\n",
    "num_str = '100'"
   ]
  },
  {
   "cell_type": "code",
   "execution_count": 26,
   "id": "c3a305eb",
   "metadata": {},
   "outputs": [
    {
     "data": {
      "text/plain": [
       "100"
      ]
     },
     "execution_count": 26,
     "metadata": {},
     "output_type": "execute_result"
    }
   ],
   "source": [
    "num_int"
   ]
  },
  {
   "cell_type": "code",
   "execution_count": 27,
   "id": "4eb0c8d2",
   "metadata": {},
   "outputs": [
    {
     "data": {
      "text/plain": [
       "'100'"
      ]
     },
     "execution_count": 27,
     "metadata": {},
     "output_type": "execute_result"
    }
   ],
   "source": [
    "num_str"
   ]
  },
  {
   "cell_type": "code",
   "execution_count": 28,
   "id": "93fd1a2a",
   "metadata": {},
   "outputs": [
    {
     "data": {
      "text/plain": [
       "101"
      ]
     },
     "execution_count": 28,
     "metadata": {},
     "output_type": "execute_result"
    }
   ],
   "source": [
    "num_int +  1"
   ]
  },
  {
   "cell_type": "code",
   "execution_count": 29,
   "id": "93776dd2",
   "metadata": {},
   "outputs": [
    {
     "ename": "TypeError",
     "evalue": "can only concatenate str (not \"int\") to str",
     "output_type": "error",
     "traceback": [
      "\u001b[0;31m---------------------------------------------------------------------------\u001b[0m",
      "\u001b[0;31mTypeError\u001b[0m                                 Traceback (most recent call last)",
      "Cell \u001b[0;32mIn[29], line 1\u001b[0m\n\u001b[0;32m----> 1\u001b[0m \u001b[43mnum_str\u001b[49m\u001b[43m \u001b[49m\u001b[38;5;241;43m+\u001b[39;49m\u001b[43m \u001b[49m\u001b[38;5;241;43m1\u001b[39;49m\n",
      "\u001b[0;31mTypeError\u001b[0m: can only concatenate str (not \"int\") to str"
     ]
    }
   ],
   "source": [
    "num_str + 1"
   ]
  },
  {
   "cell_type": "code",
   "execution_count": 31,
   "id": "58db0ffa",
   "metadata": {},
   "outputs": [
    {
     "data": {
      "text/plain": [
       "2.1"
      ]
     },
     "execution_count": 31,
     "metadata": {},
     "output_type": "execute_result"
    }
   ],
   "source": [
    "val_add = val_int + val_float\n",
    "val_add"
   ]
  },
  {
   "cell_type": "code",
   "execution_count": 32,
   "id": "383cec83",
   "metadata": {},
   "outputs": [
    {
     "data": {
      "text/plain": [
       "float"
      ]
     },
     "execution_count": 32,
     "metadata": {},
     "output_type": "execute_result"
    }
   ],
   "source": [
    "type(val_add)"
   ]
  },
  {
   "cell_type": "code",
   "execution_count": 33,
   "id": "5db04e7c",
   "metadata": {},
   "outputs": [
    {
     "data": {
      "text/plain": [
       "'1001'"
      ]
     },
     "execution_count": 33,
     "metadata": {},
     "output_type": "execute_result"
    }
   ],
   "source": [
    "num_str + '1'"
   ]
  },
  {
   "cell_type": "code",
   "execution_count": 34,
   "id": "38c59b10",
   "metadata": {},
   "outputs": [
    {
     "data": {
      "text/plain": [
       "'atgcATGC'"
      ]
     },
     "execution_count": 34,
     "metadata": {},
     "output_type": "execute_result"
    }
   ],
   "source": [
    "'atgc' + 'ATGC'"
   ]
  },
  {
   "cell_type": "code",
   "execution_count": 35,
   "id": "b1ad6c7c",
   "metadata": {},
   "outputs": [
    {
     "data": {
      "text/plain": [
       "'atgcATGC'"
      ]
     },
     "execution_count": 35,
     "metadata": {},
     "output_type": "execute_result"
    }
   ],
   "source": [
    "'atgc' + 'atgc'.upper()"
   ]
  },
  {
   "cell_type": "code",
   "execution_count": 36,
   "id": "2deb6334",
   "metadata": {},
   "outputs": [
    {
     "data": {
      "text/plain": [
       "100"
      ]
     },
     "execution_count": 36,
     "metadata": {},
     "output_type": "execute_result"
    }
   ],
   "source": [
    "int(num_str)"
   ]
  },
  {
   "cell_type": "code",
   "execution_count": 37,
   "id": "c1330a02",
   "metadata": {},
   "outputs": [
    {
     "data": {
      "text/plain": [
       "101"
      ]
     },
     "execution_count": 37,
     "metadata": {},
     "output_type": "execute_result"
    }
   ],
   "source": [
    "int(num_str)+1"
   ]
  },
  {
   "cell_type": "code",
   "execution_count": 39,
   "id": "bbc3e9c7",
   "metadata": {},
   "outputs": [
    {
     "data": {
      "text/plain": [
       "[0, 3, 5, 7, 9, 11]"
      ]
     },
     "execution_count": 39,
     "metadata": {},
     "output_type": "execute_result"
    }
   ],
   "source": [
    "list1 = [0,3,5,7,9,11]\n",
    "list1"
   ]
  },
  {
   "cell_type": "code",
   "execution_count": 40,
   "id": "3154a88b",
   "metadata": {},
   "outputs": [
    {
     "data": {
      "text/plain": [
       "list"
      ]
     },
     "execution_count": 40,
     "metadata": {},
     "output_type": "execute_result"
    }
   ],
   "source": [
    "type(list1)"
   ]
  },
  {
   "cell_type": "code",
   "execution_count": 41,
   "id": "d5f62d07",
   "metadata": {},
   "outputs": [
    {
     "data": {
      "text/plain": [
       "[]"
      ]
     },
     "execution_count": 41,
     "metadata": {},
     "output_type": "execute_result"
    }
   ],
   "source": [
    "list2 = []\n",
    "list2"
   ]
  },
  {
   "cell_type": "code",
   "execution_count": 42,
   "id": "4af67794",
   "metadata": {},
   "outputs": [
    {
     "data": {
      "text/plain": [
       "['chr1', 1358, 2358]"
      ]
     },
     "execution_count": 42,
     "metadata": {},
     "output_type": "execute_result"
    }
   ],
   "source": [
    "list3 = ['chr1',1358,2358]\n",
    "list3"
   ]
  },
  {
   "cell_type": "code",
   "execution_count": 43,
   "id": "15121f7b",
   "metadata": {},
   "outputs": [
    {
     "data": {
      "text/plain": [
       "[1, 3, ['chr1', 1358, 2358]]"
      ]
     },
     "execution_count": 43,
     "metadata": {},
     "output_type": "execute_result"
    }
   ],
   "source": [
    "list4 = [1,3,list3]\n",
    "list4"
   ]
  },
  {
   "cell_type": "code",
   "execution_count": 44,
   "id": "e5cd9578",
   "metadata": {},
   "outputs": [
    {
     "data": {
      "text/plain": [
       "[0, 3, 5, 7, 9, 11]"
      ]
     },
     "execution_count": 44,
     "metadata": {},
     "output_type": "execute_result"
    }
   ],
   "source": [
    "list1"
   ]
  },
  {
   "cell_type": "code",
   "execution_count": 45,
   "id": "3c5a2eaf",
   "metadata": {},
   "outputs": [
    {
     "data": {
      "text/plain": [
       "0"
      ]
     },
     "execution_count": 45,
     "metadata": {},
     "output_type": "execute_result"
    }
   ],
   "source": [
    "list1[0]"
   ]
  },
  {
   "cell_type": "code",
   "execution_count": 46,
   "id": "d4da8974",
   "metadata": {},
   "outputs": [
    {
     "data": {
      "text/plain": [
       "3"
      ]
     },
     "execution_count": 46,
     "metadata": {},
     "output_type": "execute_result"
    }
   ],
   "source": [
    "list1[1]"
   ]
  },
  {
   "cell_type": "code",
   "execution_count": 47,
   "id": "29c2f3b0",
   "metadata": {},
   "outputs": [
    {
     "data": {
      "text/plain": [
       "11"
      ]
     },
     "execution_count": 47,
     "metadata": {},
     "output_type": "execute_result"
    }
   ],
   "source": [
    "list1[-1]"
   ]
  },
  {
   "cell_type": "code",
   "execution_count": 48,
   "id": "583be4c1",
   "metadata": {},
   "outputs": [
    {
     "data": {
      "text/plain": [
       "9"
      ]
     },
     "execution_count": 48,
     "metadata": {},
     "output_type": "execute_result"
    }
   ],
   "source": [
    "list1[-2]"
   ]
  },
  {
   "cell_type": "code",
   "execution_count": 49,
   "id": "c7d39520",
   "metadata": {},
   "outputs": [
    {
     "data": {
      "text/plain": [
       "[]"
      ]
     },
     "execution_count": 49,
     "metadata": {},
     "output_type": "execute_result"
    }
   ],
   "source": [
    "list2"
   ]
  },
  {
   "cell_type": "code",
   "execution_count": 50,
   "id": "57a950e5",
   "metadata": {},
   "outputs": [
    {
     "ename": "IndexError",
     "evalue": "list index out of range",
     "output_type": "error",
     "traceback": [
      "\u001b[0;31m---------------------------------------------------------------------------\u001b[0m",
      "\u001b[0;31mIndexError\u001b[0m                                Traceback (most recent call last)",
      "Cell \u001b[0;32mIn[50], line 1\u001b[0m\n\u001b[0;32m----> 1\u001b[0m \u001b[43mlist2\u001b[49m\u001b[43m[\u001b[49m\u001b[38;5;241;43m0\u001b[39;49m\u001b[43m]\u001b[49m\n",
      "\u001b[0;31mIndexError\u001b[0m: list index out of range"
     ]
    }
   ],
   "source": [
    "list2[0]"
   ]
  },
  {
   "cell_type": "code",
   "execution_count": 51,
   "id": "27fa9402",
   "metadata": {},
   "outputs": [
    {
     "ename": "IndexError",
     "evalue": "list index out of range",
     "output_type": "error",
     "traceback": [
      "\u001b[0;31m---------------------------------------------------------------------------\u001b[0m",
      "\u001b[0;31mIndexError\u001b[0m                                Traceback (most recent call last)",
      "Cell \u001b[0;32mIn[51], line 1\u001b[0m\n\u001b[0;32m----> 1\u001b[0m \u001b[43mlist1\u001b[49m\u001b[43m[\u001b[49m\u001b[38;5;241;43m10000\u001b[39;49m\u001b[43m]\u001b[49m\n",
      "\u001b[0;31mIndexError\u001b[0m: list index out of range"
     ]
    }
   ],
   "source": [
    "list1[10000]"
   ]
  },
  {
   "cell_type": "code",
   "execution_count": 52,
   "id": "ae7f8909",
   "metadata": {},
   "outputs": [
    {
     "data": {
      "text/plain": [
       "6"
      ]
     },
     "execution_count": 52,
     "metadata": {},
     "output_type": "execute_result"
    }
   ],
   "source": [
    "len(list1)"
   ]
  },
  {
   "cell_type": "code",
   "execution_count": 53,
   "id": "295acec0",
   "metadata": {},
   "outputs": [
    {
     "data": {
      "text/plain": [
       "0"
      ]
     },
     "execution_count": 53,
     "metadata": {},
     "output_type": "execute_result"
    }
   ],
   "source": [
    "len(list2)"
   ]
  },
  {
   "cell_type": "code",
   "execution_count": 54,
   "id": "457e426f",
   "metadata": {},
   "outputs": [
    {
     "data": {
      "text/plain": [
       "[0, 1, 2, 3, 4, 5, 6, 7, 8]"
      ]
     },
     "execution_count": 54,
     "metadata": {},
     "output_type": "execute_result"
    }
   ],
   "source": [
    "list_num = [0,1,2,3,4,5,6,7,8]\n",
    "list_num"
   ]
  },
  {
   "cell_type": "code",
   "execution_count": 55,
   "id": "87b580b8",
   "metadata": {},
   "outputs": [
    {
     "data": {
      "text/plain": [
       "[1, 2, 3, 4, 5, 6, 7, 8]"
      ]
     },
     "execution_count": 55,
     "metadata": {},
     "output_type": "execute_result"
    }
   ],
   "source": [
    "list_num[1:]"
   ]
  },
  {
   "cell_type": "code",
   "execution_count": 56,
   "id": "02283ead",
   "metadata": {},
   "outputs": [
    {
     "data": {
      "text/plain": [
       "[0, 1, 2, 3]"
      ]
     },
     "execution_count": 56,
     "metadata": {},
     "output_type": "execute_result"
    }
   ],
   "source": [
    "list_num[:4]"
   ]
  },
  {
   "cell_type": "code",
   "execution_count": 57,
   "id": "57af2d25",
   "metadata": {},
   "outputs": [
    {
     "data": {
      "text/plain": [
       "[1, 2, 3]"
      ]
     },
     "execution_count": 57,
     "metadata": {},
     "output_type": "execute_result"
    }
   ],
   "source": [
    "list_num[1:4]"
   ]
  },
  {
   "cell_type": "code",
   "execution_count": 58,
   "id": "8171166c",
   "metadata": {},
   "outputs": [
    {
     "data": {
      "text/plain": [
       "[0, 2, 4]"
      ]
     },
     "execution_count": 58,
     "metadata": {},
     "output_type": "execute_result"
    }
   ],
   "source": [
    "list_num[0:5:2]"
   ]
  },
  {
   "cell_type": "code",
   "execution_count": 59,
   "id": "9d8dced6",
   "metadata": {},
   "outputs": [
    {
     "data": {
      "text/plain": [
       "[8, 7, 6, 5, 4, 3, 2, 1, 0]"
      ]
     },
     "execution_count": 59,
     "metadata": {},
     "output_type": "execute_result"
    }
   ],
   "source": [
    "list_num[::-1]"
   ]
  },
  {
   "cell_type": "code",
   "execution_count": 60,
   "id": "eeb7d9b6",
   "metadata": {},
   "outputs": [
    {
     "data": {
      "text/plain": [
       "['chr1', 1358, 2358]"
      ]
     },
     "execution_count": 60,
     "metadata": {},
     "output_type": "execute_result"
    }
   ],
   "source": [
    "list3"
   ]
  },
  {
   "cell_type": "code",
   "execution_count": 61,
   "id": "6bfac61c",
   "metadata": {},
   "outputs": [
    {
     "data": {
      "text/plain": [
       "['atgc', 1]"
      ]
     },
     "execution_count": 61,
     "metadata": {},
     "output_type": "execute_result"
    }
   ],
   "source": [
    "list5 = ['atgc',1]\n",
    "list5"
   ]
  },
  {
   "cell_type": "code",
   "execution_count": 63,
   "id": "3b3aff03",
   "metadata": {},
   "outputs": [
    {
     "data": {
      "text/plain": [
       "['chr1', 1358, 2358, 'atgc', 1]"
      ]
     },
     "execution_count": 63,
     "metadata": {},
     "output_type": "execute_result"
    }
   ],
   "source": [
    "list6 = list3 + list5\n",
    "list6"
   ]
  },
  {
   "cell_type": "code",
   "execution_count": 64,
   "id": "241f5ad3",
   "metadata": {},
   "outputs": [
    {
     "data": {
      "text/plain": [
       "[0, 3, 5, 7, 9, 11]"
      ]
     },
     "execution_count": 64,
     "metadata": {},
     "output_type": "execute_result"
    }
   ],
   "source": [
    "list1"
   ]
  },
  {
   "cell_type": "code",
   "execution_count": 65,
   "id": "ebefe8ee",
   "metadata": {},
   "outputs": [
    {
     "data": {
      "text/plain": [
       "7"
      ]
     },
     "execution_count": 65,
     "metadata": {},
     "output_type": "execute_result"
    }
   ],
   "source": [
    "list1[3]"
   ]
  },
  {
   "cell_type": "code",
   "execution_count": 66,
   "id": "2f0733d8",
   "metadata": {},
   "outputs": [
    {
     "data": {
      "text/plain": [
       "'edited'"
      ]
     },
     "execution_count": 66,
     "metadata": {},
     "output_type": "execute_result"
    }
   ],
   "source": [
    "list1[3] = 'edited'\n",
    "list1[3]"
   ]
  },
  {
   "cell_type": "code",
   "execution_count": 67,
   "id": "61d70471",
   "metadata": {},
   "outputs": [
    {
     "data": {
      "text/plain": [
       "[0, 3, 5, 'edited', 9, 11]"
      ]
     },
     "execution_count": 67,
     "metadata": {},
     "output_type": "execute_result"
    }
   ],
   "source": [
    "list1"
   ]
  },
  {
   "cell_type": "code",
   "execution_count": 68,
   "id": "b21ab8d9",
   "metadata": {},
   "outputs": [
    {
     "data": {
      "text/plain": [
       "[0, 3, 5, 'edited', 9, 11, 'append_data']"
      ]
     },
     "execution_count": 68,
     "metadata": {},
     "output_type": "execute_result"
    }
   ],
   "source": [
    "list1.append('append_data')\n",
    "list1"
   ]
  },
  {
   "cell_type": "code",
   "execution_count": 69,
   "id": "8a335658",
   "metadata": {},
   "outputs": [
    {
     "data": {
      "text/plain": [
       "[0, 3, 5, 'edited', 9, 11, 'append_data', 11]"
      ]
     },
     "execution_count": 69,
     "metadata": {},
     "output_type": "execute_result"
    }
   ],
   "source": [
    "list1 = [0,3,5,'edited',9,11,'append_data']\n",
    "list1.append(11)\n",
    "list1"
   ]
  },
  {
   "cell_type": "code",
   "execution_count": 70,
   "id": "402dbc06",
   "metadata": {},
   "outputs": [
    {
     "data": {
      "text/plain": [
       "[0, 3, 5, 'edited', 9, 'append_data', 11]"
      ]
     },
     "execution_count": 70,
     "metadata": {},
     "output_type": "execute_result"
    }
   ],
   "source": [
    "list1.remove(11)\n",
    "list1"
   ]
  },
  {
   "cell_type": "code",
   "execution_count": 71,
   "id": "c0049750",
   "metadata": {},
   "outputs": [
    {
     "data": {
      "text/plain": [
       "[1, 2, 3, 4, 5, 6, 7, 8]"
      ]
     },
     "execution_count": 71,
     "metadata": {},
     "output_type": "execute_result"
    }
   ],
   "source": [
    "list7 = [1,5,2,3,8,4,7,6]\n",
    "list8 = sorted(list7)\n",
    "list8"
   ]
  },
  {
   "cell_type": "code",
   "execution_count": 72,
   "id": "6149396e",
   "metadata": {},
   "outputs": [
    {
     "data": {
      "text/plain": [
       "[1, 5, 2, 3, 8, 4, 7, 6]"
      ]
     },
     "execution_count": 72,
     "metadata": {},
     "output_type": "execute_result"
    }
   ],
   "source": [
    "list7"
   ]
  },
  {
   "cell_type": "code",
   "execution_count": 74,
   "id": "fee0900b",
   "metadata": {},
   "outputs": [
    {
     "data": {
      "text/plain": [
       "[8, 7, 6, 5, 4, 3, 2, 1]"
      ]
     },
     "execution_count": 74,
     "metadata": {},
     "output_type": "execute_result"
    }
   ],
   "source": [
    "list9 = sorted(list7,reverse=True)\n",
    "list9"
   ]
  },
  {
   "cell_type": "code",
   "execution_count": 75,
   "id": "d97a8aa8",
   "metadata": {},
   "outputs": [
    {
     "data": {
      "text/plain": [
       "[1, 2, 3, 4, 5, 6, 7, 8]"
      ]
     },
     "execution_count": 75,
     "metadata": {},
     "output_type": "execute_result"
    }
   ],
   "source": [
    "list10 = sorted(list9,reverse=False)\n",
    "list10"
   ]
  },
  {
   "cell_type": "code",
   "execution_count": 76,
   "id": "ffa5b5fa",
   "metadata": {},
   "outputs": [
    {
     "data": {
      "text/plain": [
       "[1, 2, -3, 4, -5, -6]"
      ]
     },
     "execution_count": 76,
     "metadata": {},
     "output_type": "execute_result"
    }
   ],
   "source": [
    "list11 = [-3,1,-5,4,2,-6]\n",
    "list_abs = sorted(list11,key=abs)\n",
    "list_abs"
   ]
  },
  {
   "cell_type": "code",
   "execution_count": 77,
   "id": "ed31fbbf",
   "metadata": {},
   "outputs": [
    {
     "data": {
      "text/plain": [
       "['shizuoka', 'hokkaido', 'tokyo', 'osaka', 'mie']"
      ]
     },
     "execution_count": 77,
     "metadata": {},
     "output_type": "execute_result"
    }
   ],
   "source": [
    "list12 = ['shizuoka','tokyo','mie','hokkaido','osaka']\n",
    "list_len = sorted(list12,key=len,reverse=True)\n",
    "list_len"
   ]
  },
  {
   "cell_type": "code",
   "execution_count": 78,
   "id": "8df98975",
   "metadata": {},
   "outputs": [],
   "source": [
    "def get_gene_num(x):\n",
    "    gene_num = x.split('_')[-1]\n",
    "    return int(gene_num)"
   ]
  },
  {
   "cell_type": "code",
   "execution_count": 79,
   "id": "4632401d",
   "metadata": {},
   "outputs": [
    {
     "data": {
      "text/plain": [
       "1"
      ]
     },
     "execution_count": 79,
     "metadata": {},
     "output_type": "execute_result"
    }
   ],
   "source": [
    "get_gene_num('gene_1')"
   ]
  },
  {
   "cell_type": "code",
   "execution_count": 4,
   "id": "d8ad59fe",
   "metadata": {},
   "outputs": [
    {
     "data": {
      "text/plain": [
       "['gene_3',\n",
       " 'gene_1',\n",
       " 'gene_10',\n",
       " 'gene_25',\n",
       " 'gene_21',\n",
       " 'gebe_19',\n",
       " 'gene_2',\n",
       " 'gene_29',\n",
       " 'gene_30',\n",
       " 'gene_11']"
      ]
     },
     "execution_count": 4,
     "metadata": {},
     "output_type": "execute_result"
    }
   ],
   "source": [
    "list11 = ['gene_3','gene_1','gene_10','gene_25','gene_21','gebe_19','gene_2','gene_29','gene_30','gene_11']\n",
    "list11"
   ]
  },
  {
   "cell_type": "code",
   "execution_count": 81,
   "id": "07a76922",
   "metadata": {},
   "outputs": [
    {
     "data": {
      "text/plain": [
       "['gebe_19',\n",
       " 'gene_1',\n",
       " 'gene_10',\n",
       " 'gene_11',\n",
       " 'gene_2',\n",
       " 'gene_21',\n",
       " 'gene_25',\n",
       " 'gene_29',\n",
       " 'gene_3',\n",
       " 'gene_30']"
      ]
     },
     "execution_count": 81,
     "metadata": {},
     "output_type": "execute_result"
    }
   ],
   "source": [
    "sorted(list11)"
   ]
  },
  {
   "cell_type": "code",
   "execution_count": 82,
   "id": "c2677257",
   "metadata": {},
   "outputs": [
    {
     "data": {
      "text/plain": [
       "['gene_1',\n",
       " 'gene_2',\n",
       " 'gene_3',\n",
       " 'gene_10',\n",
       " 'gene_11',\n",
       " 'gebe_19',\n",
       " 'gene_21',\n",
       " 'gene_25',\n",
       " 'gene_29',\n",
       " 'gene_30']"
      ]
     },
     "execution_count": 82,
     "metadata": {},
     "output_type": "execute_result"
    }
   ],
   "source": [
    "sorted(list11,key=get_gene_num)"
   ]
  },
  {
   "cell_type": "code",
   "execution_count": 5,
   "id": "7f0c8219",
   "metadata": {},
   "outputs": [
    {
     "data": {
      "text/plain": [
       "['gene_1',\n",
       " 'gene_2',\n",
       " 'gene_3',\n",
       " 'gene_10',\n",
       " 'gene_11',\n",
       " 'gebe_19',\n",
       " 'gene_21',\n",
       " 'gene_25',\n",
       " 'gene_29',\n",
       " 'gene_30']"
      ]
     },
     "execution_count": 5,
     "metadata": {},
     "output_type": "execute_result"
    }
   ],
   "source": [
    "sorted(list11,key=lambda x: int(x.split('_')[-1]))"
   ]
  },
  {
   "cell_type": "code",
   "execution_count": 6,
   "id": "705e2c21",
   "metadata": {},
   "outputs": [
    {
     "data": {
      "text/plain": [
       "[0, 5, 3, 4, 2]"
      ]
     },
     "execution_count": 6,
     "metadata": {},
     "output_type": "execute_result"
    }
   ],
   "source": [
    "list_sort_test = [0,5,3,4,2]\n",
    "list_sort_test"
   ]
  },
  {
   "cell_type": "code",
   "execution_count": 7,
   "id": "de31dc0d",
   "metadata": {},
   "outputs": [
    {
     "data": {
      "text/plain": [
       "[0, 2, 3, 4, 5]"
      ]
     },
     "execution_count": 7,
     "metadata": {},
     "output_type": "execute_result"
    }
   ],
   "source": [
    "sorted(list_sort_test)"
   ]
  },
  {
   "cell_type": "code",
   "execution_count": 8,
   "id": "cbbe31c9",
   "metadata": {},
   "outputs": [
    {
     "data": {
      "text/plain": [
       "[0, 5, 3, 4, 2]"
      ]
     },
     "execution_count": 8,
     "metadata": {},
     "output_type": "execute_result"
    }
   ],
   "source": [
    "list_sort_test"
   ]
  },
  {
   "cell_type": "code",
   "execution_count": 9,
   "id": "41c435cb",
   "metadata": {},
   "outputs": [],
   "source": [
    "list_sort_test.sort()"
   ]
  },
  {
   "cell_type": "code",
   "execution_count": 10,
   "id": "b4cb32e9",
   "metadata": {},
   "outputs": [
    {
     "data": {
      "text/plain": [
       "[0, 2, 3, 4, 5]"
      ]
     },
     "execution_count": 10,
     "metadata": {},
     "output_type": "execute_result"
    }
   ],
   "source": [
    "list_sort_test"
   ]
  },
  {
   "cell_type": "code",
   "execution_count": 13,
   "id": "e64066f3",
   "metadata": {},
   "outputs": [
    {
     "name": "stdout",
     "output_type": "stream",
     "text": [
      "Retrieving notices: done\n",
      "Channels:\n",
      " - bioconda\n",
      " - conda-forge\n",
      " - defaults\n",
      " - r\n",
      "Platform: osx-64\n",
      "Collecting package metadata (repodata.json): done\n",
      "Solving environment: done\n",
      "\n",
      "## Package Plan ##\n",
      "\n",
      "  environment location: /opt/miniconda3/envs/jupyter_env\n",
      "\n",
      "  added / updated specs:\n",
      "    - natsort\n",
      "\n",
      "\n",
      "The following packages will be downloaded:\n",
      "\n",
      "    package                    |            build\n",
      "    ---------------------------|-----------------\n",
      "    natsort-8.4.0              |     pyh29332c3_1          38 KB  conda-forge\n",
      "    ------------------------------------------------------------\n",
      "                                           Total:          38 KB\n",
      "\n",
      "The following NEW packages will be INSTALLED:\n",
      "\n",
      "  natsort            conda-forge/noarch::natsort-8.4.0-pyh29332c3_1 \n",
      "\n",
      "\n",
      "\n",
      "Downloading and Extracting Packages:\n",
      "                                                                                \n",
      "Preparing transaction: done\n",
      "Verifying transaction: done\n",
      "Executing transaction: done\n",
      "\n",
      "Note: you may need to restart the kernel to use updated packages.\n"
     ]
    }
   ],
   "source": [
    "conda install natsort"
   ]
  },
  {
   "cell_type": "code",
   "execution_count": 15,
   "id": "0d84606f",
   "metadata": {},
   "outputs": [],
   "source": [
    "from natsort import natsorted"
   ]
  },
  {
   "cell_type": "code",
   "execution_count": 16,
   "id": "810c99b2",
   "metadata": {},
   "outputs": [
    {
     "data": {
      "text/plain": [
       "['gebe_19',\n",
       " 'gene_1',\n",
       " 'gene_10',\n",
       " 'gene_11',\n",
       " 'gene_2',\n",
       " 'gene_21',\n",
       " 'gene_25',\n",
       " 'gene_29',\n",
       " 'gene_3',\n",
       " 'gene_30']"
      ]
     },
     "execution_count": 16,
     "metadata": {},
     "output_type": "execute_result"
    }
   ],
   "source": [
    "sorted(list11)"
   ]
  },
  {
   "cell_type": "code",
   "execution_count": 17,
   "id": "3988af68",
   "metadata": {},
   "outputs": [
    {
     "data": {
      "text/plain": [
       "['gebe_19',\n",
       " 'gene_1',\n",
       " 'gene_2',\n",
       " 'gene_3',\n",
       " 'gene_10',\n",
       " 'gene_11',\n",
       " 'gene_21',\n",
       " 'gene_25',\n",
       " 'gene_29',\n",
       " 'gene_30']"
      ]
     },
     "execution_count": 17,
     "metadata": {},
     "output_type": "execute_result"
    }
   ],
   "source": [
    "natsorted(list11)"
   ]
  },
  {
   "cell_type": "code",
   "execution_count": 18,
   "id": "706325f3",
   "metadata": {},
   "outputs": [
    {
     "data": {
      "text/plain": [
       "('gene1', 'chr8', 1, 2, 3)"
      ]
     },
     "execution_count": 18,
     "metadata": {},
     "output_type": "execute_result"
    }
   ],
   "source": [
    "tuple1 = ('gene1','chr8',1,2,3)\n",
    "tuple1"
   ]
  },
  {
   "cell_type": "code",
   "execution_count": 19,
   "id": "89a04f80",
   "metadata": {},
   "outputs": [
    {
     "data": {
      "text/plain": [
       "'gene1'"
      ]
     },
     "execution_count": 19,
     "metadata": {},
     "output_type": "execute_result"
    }
   ],
   "source": [
    "tuple1[0]"
   ]
  },
  {
   "cell_type": "code",
   "execution_count": 20,
   "id": "6584b704",
   "metadata": {},
   "outputs": [
    {
     "data": {
      "text/plain": [
       "2"
      ]
     },
     "execution_count": 20,
     "metadata": {},
     "output_type": "execute_result"
    }
   ],
   "source": [
    "tuple1[3]"
   ]
  },
  {
   "cell_type": "code",
   "execution_count": 21,
   "id": "d61f5cbf",
   "metadata": {},
   "outputs": [
    {
     "data": {
      "text/plain": [
       "('gene1',)"
      ]
     },
     "execution_count": 21,
     "metadata": {},
     "output_type": "execute_result"
    }
   ],
   "source": [
    "tuple1[0:1]"
   ]
  },
  {
   "cell_type": "code",
   "execution_count": 22,
   "id": "4e56b68c",
   "metadata": {},
   "outputs": [
    {
     "data": {
      "text/plain": [
       "('gene1', 'chr8', 1)"
      ]
     },
     "execution_count": 22,
     "metadata": {},
     "output_type": "execute_result"
    }
   ],
   "source": [
    "tuple1[0:3]"
   ]
  },
  {
   "cell_type": "code",
   "execution_count": 24,
   "id": "d58c1003",
   "metadata": {},
   "outputs": [
    {
     "data": {
      "text/plain": [
       "(1, 2, [3, 4], (5, 6))"
      ]
     },
     "execution_count": 24,
     "metadata": {},
     "output_type": "execute_result"
    }
   ],
   "source": [
    "tuple2 = (1,2,[3,4],(5,6))\n",
    "tuple2"
   ]
  },
  {
   "cell_type": "code",
   "execution_count": 25,
   "id": "7d192a46",
   "metadata": {},
   "outputs": [
    {
     "ename": "TypeError",
     "evalue": "'tuple' object does not support item assignment",
     "output_type": "error",
     "traceback": [
      "\u001b[0;31m---------------------------------------------------------------------------\u001b[0m",
      "\u001b[0;31mTypeError\u001b[0m                                 Traceback (most recent call last)",
      "Cell \u001b[0;32mIn[25], line 1\u001b[0m\n\u001b[0;32m----> 1\u001b[0m \u001b[43mtuple2\u001b[49m\u001b[43m[\u001b[49m\u001b[38;5;241;43m0\u001b[39;49m\u001b[43m]\u001b[49m \u001b[38;5;241m=\u001b[39m \u001b[38;5;124m'\u001b[39m\u001b[38;5;124mgene2\u001b[39m\u001b[38;5;124m'\u001b[39m\n",
      "\u001b[0;31mTypeError\u001b[0m: 'tuple' object does not support item assignment"
     ]
    }
   ],
   "source": [
    "tuple2[0] = 'gene2'"
   ]
  },
  {
   "cell_type": "code",
   "execution_count": 26,
   "id": "ce3b3efb",
   "metadata": {},
   "outputs": [
    {
     "ename": "AttributeError",
     "evalue": "'tuple' object has no attribute 'append'",
     "output_type": "error",
     "traceback": [
      "\u001b[0;31m---------------------------------------------------------------------------\u001b[0m",
      "\u001b[0;31mAttributeError\u001b[0m                            Traceback (most recent call last)",
      "Cell \u001b[0;32mIn[26], line 1\u001b[0m\n\u001b[0;32m----> 1\u001b[0m \u001b[43mtuple2\u001b[49m\u001b[38;5;241;43m.\u001b[39;49m\u001b[43mappend\u001b[49m(\u001b[38;5;241m4\u001b[39m)\n",
      "\u001b[0;31mAttributeError\u001b[0m: 'tuple' object has no attribute 'append'"
     ]
    }
   ],
   "source": [
    "tuple2.append(4)"
   ]
  },
  {
   "cell_type": "code",
   "execution_count": 27,
   "id": "3177ef9a",
   "metadata": {},
   "outputs": [
    {
     "data": {
      "text/plain": [
       "('gene1', 'chr8', 1, 2, 3)"
      ]
     },
     "execution_count": 27,
     "metadata": {},
     "output_type": "execute_result"
    }
   ],
   "source": [
    "tuple1"
   ]
  },
  {
   "cell_type": "code",
   "execution_count": 28,
   "id": "9144f2b7",
   "metadata": {},
   "outputs": [
    {
     "data": {
      "text/plain": [
       "['gene1', 'chr8', 1, 2, 3]"
      ]
     },
     "execution_count": 28,
     "metadata": {},
     "output_type": "execute_result"
    }
   ],
   "source": [
    "list_from_tuple1 = list(tuple1)\n",
    "list_from_tuple1"
   ]
  },
  {
   "cell_type": "code",
   "execution_count": 29,
   "id": "ca55f560",
   "metadata": {},
   "outputs": [
    {
     "data": {
      "text/plain": [
       "('gene1', 'chr8', 1, 2, 3)"
      ]
     },
     "execution_count": 29,
     "metadata": {},
     "output_type": "execute_result"
    }
   ],
   "source": [
    "tuple(list_from_tuple1)"
   ]
  },
  {
   "cell_type": "code",
   "execution_count": 31,
   "id": "dab68b92",
   "metadata": {},
   "outputs": [
    {
     "data": {
      "text/plain": [
       "'atgcatgcatgc'"
      ]
     },
     "execution_count": 31,
     "metadata": {},
     "output_type": "execute_result"
    }
   ],
   "source": [
    "DNA_seq1 = 'atgcatgcatgc'\n",
    "DNA_seq1"
   ]
  },
  {
   "cell_type": "code",
   "execution_count": 32,
   "id": "de6fa823",
   "metadata": {},
   "outputs": [
    {
     "data": {
      "text/plain": [
       "'cat'"
      ]
     },
     "execution_count": 32,
     "metadata": {},
     "output_type": "execute_result"
    }
   ],
   "source": [
    "DNA_seq1[3:6]"
   ]
  },
  {
   "cell_type": "code",
   "execution_count": 33,
   "id": "9ec541b2",
   "metadata": {},
   "outputs": [],
   "source": [
    "test_list = [0,1,2,3,4,5,6,7,8]\n",
    "test_str = '012345678'"
   ]
  },
  {
   "cell_type": "code",
   "execution_count": 34,
   "id": "1008d718",
   "metadata": {},
   "outputs": [
    {
     "data": {
      "text/plain": [
       "[3, 4, 5]"
      ]
     },
     "execution_count": 34,
     "metadata": {},
     "output_type": "execute_result"
    }
   ],
   "source": [
    "test_list[3:6]"
   ]
  },
  {
   "cell_type": "code",
   "execution_count": 35,
   "id": "1f2a3b74",
   "metadata": {},
   "outputs": [
    {
     "data": {
      "text/plain": [
       "'345'"
      ]
     },
     "execution_count": 35,
     "metadata": {},
     "output_type": "execute_result"
    }
   ],
   "source": [
    "test_str[3:6]"
   ]
  },
  {
   "cell_type": "code",
   "execution_count": 36,
   "id": "2266fede",
   "metadata": {},
   "outputs": [
    {
     "data": {
      "text/plain": [
       "[0, 1, 2, 3, 4, 5, 'a', 7, 8]"
      ]
     },
     "execution_count": 36,
     "metadata": {},
     "output_type": "execute_result"
    }
   ],
   "source": [
    "test_list[6] = 'a'\n",
    "test_list"
   ]
  },
  {
   "cell_type": "code",
   "execution_count": 37,
   "id": "f57b6a12",
   "metadata": {},
   "outputs": [
    {
     "ename": "NameError",
     "evalue": "name 'test_strt' is not defined",
     "output_type": "error",
     "traceback": [
      "\u001b[0;31m---------------------------------------------------------------------------\u001b[0m",
      "\u001b[0;31mNameError\u001b[0m                                 Traceback (most recent call last)",
      "Cell \u001b[0;32mIn[37], line 1\u001b[0m\n\u001b[0;32m----> 1\u001b[0m \u001b[43mtest_strt\u001b[49m[\u001b[38;5;241m6\u001b[39m] \u001b[38;5;241m=\u001b[39m \u001b[38;5;124m'\u001b[39m\u001b[38;5;124ma\u001b[39m\u001b[38;5;124m'\u001b[39m\n",
      "\u001b[0;31mNameError\u001b[0m: name 'test_strt' is not defined"
     ]
    }
   ],
   "source": [
    "test_strt[6] = 'a'"
   ]
  },
  {
   "cell_type": "code",
   "execution_count": 38,
   "id": "0f5249ea",
   "metadata": {},
   "outputs": [
    {
     "data": {
      "text/plain": [
       "'012345a78'"
      ]
     },
     "execution_count": 38,
     "metadata": {},
     "output_type": "execute_result"
    }
   ],
   "source": [
    "test_str[:6] + 'a' + test_str[7:]"
   ]
  },
  {
   "cell_type": "code",
   "execution_count": 39,
   "id": "33a2e19d",
   "metadata": {},
   "outputs": [
    {
     "data": {
      "text/plain": [
       "['0', '1', '2', '3', '4', '5', '6', '7', '8']"
      ]
     },
     "execution_count": 39,
     "metadata": {},
     "output_type": "execute_result"
    }
   ],
   "source": [
    "list_from_test_str = list(test_str)\n",
    "list_from_test_str"
   ]
  },
  {
   "cell_type": "code",
   "execution_count": 40,
   "id": "723ec085",
   "metadata": {},
   "outputs": [
    {
     "data": {
      "text/plain": [
       "'012345a78'"
      ]
     },
     "execution_count": 40,
     "metadata": {},
     "output_type": "execute_result"
    }
   ],
   "source": [
    "list_from_test_str[6] = 'a'\n",
    "''.join(list_from_test_str)"
   ]
  },
  {
   "cell_type": "code",
   "execution_count": 41,
   "id": "28a69709",
   "metadata": {},
   "outputs": [],
   "source": [
    "gene_set1 = {'chr':1,'pos':324,'ref':'c','var':'t'}"
   ]
  },
  {
   "cell_type": "code",
   "execution_count": 42,
   "id": "444e5c42",
   "metadata": {},
   "outputs": [
    {
     "data": {
      "text/plain": [
       "{'chr': 1, 'pos': 324, 'ref': 'c', 'var': 't'}"
      ]
     },
     "execution_count": 42,
     "metadata": {},
     "output_type": "execute_result"
    }
   ],
   "source": [
    "gene_set1"
   ]
  },
  {
   "cell_type": "code",
   "execution_count": 43,
   "id": "313c8d23",
   "metadata": {},
   "outputs": [
    {
     "data": {
      "text/plain": [
       "1"
      ]
     },
     "execution_count": 43,
     "metadata": {},
     "output_type": "execute_result"
    }
   ],
   "source": [
    "gene_set1['chr']"
   ]
  },
  {
   "cell_type": "code",
   "execution_count": 44,
   "id": "a7266b76",
   "metadata": {},
   "outputs": [],
   "source": [
    "set1 = {'gene_1','gene_3','gene_8'}"
   ]
  },
  {
   "cell_type": "code",
   "execution_count": 45,
   "id": "ccbdf5b1",
   "metadata": {},
   "outputs": [
    {
     "data": {
      "text/plain": [
       "{'gene_1', 'gene_3', 'gene_8'}"
      ]
     },
     "execution_count": 45,
     "metadata": {},
     "output_type": "execute_result"
    }
   ],
   "source": [
    "set1"
   ]
  },
  {
   "cell_type": "code",
   "execution_count": 46,
   "id": "f7a3a4d5",
   "metadata": {},
   "outputs": [],
   "source": [
    "set2 = {2,1,3}"
   ]
  },
  {
   "cell_type": "code",
   "execution_count": 47,
   "id": "de004fdd",
   "metadata": {},
   "outputs": [
    {
     "data": {
      "text/plain": [
       "{1, 2, 3}"
      ]
     },
     "execution_count": 47,
     "metadata": {},
     "output_type": "execute_result"
    }
   ],
   "source": [
    "set2"
   ]
  },
  {
   "cell_type": "code",
   "execution_count": 48,
   "id": "3f56b65b",
   "metadata": {},
   "outputs": [
    {
     "data": {
      "text/plain": [
       "{'gene_1', 'gene_3', 'gene_8'}"
      ]
     },
     "execution_count": 48,
     "metadata": {},
     "output_type": "execute_result"
    }
   ],
   "source": [
    "set1"
   ]
  },
  {
   "cell_type": "code",
   "execution_count": 50,
   "id": "3ca00932",
   "metadata": {},
   "outputs": [
    {
     "data": {
      "text/plain": [
       "{'12', 'gene_1', 'gene_3', 'gene_8'}"
      ]
     },
     "execution_count": 50,
     "metadata": {},
     "output_type": "execute_result"
    }
   ],
   "source": [
    "set1.add('12')\n",
    "set1"
   ]
  },
  {
   "cell_type": "code",
   "execution_count": 51,
   "id": "a7f26ba6",
   "metadata": {},
   "outputs": [
    {
     "data": {
      "text/plain": [
       "{'12', 'gene_3', 'gene_8'}"
      ]
     },
     "execution_count": 51,
     "metadata": {},
     "output_type": "execute_result"
    }
   ],
   "source": [
    "set1.remove('gene_1')\n",
    "set1"
   ]
  },
  {
   "cell_type": "code",
   "execution_count": 52,
   "id": "5119f106",
   "metadata": {},
   "outputs": [
    {
     "data": {
      "text/plain": [
       "{1, 2, 3, 4, 5, 6, 7}"
      ]
     },
     "execution_count": 52,
     "metadata": {},
     "output_type": "execute_result"
    }
   ],
   "source": [
    "set3 = {1,2,3,4,5}\n",
    "set4 = {3,4,5,6,7}\n",
    "set3 | set4"
   ]
  },
  {
   "cell_type": "code",
   "execution_count": 53,
   "id": "d9d0dba4",
   "metadata": {},
   "outputs": [
    {
     "data": {
      "text/plain": [
       "{3, 4, 5}"
      ]
     },
     "execution_count": 53,
     "metadata": {},
     "output_type": "execute_result"
    }
   ],
   "source": [
    "set3 & set4"
   ]
  },
  {
   "cell_type": "code",
   "execution_count": 54,
   "id": "11aeea09",
   "metadata": {},
   "outputs": [
    {
     "data": {
      "text/plain": [
       "{1, 2}"
      ]
     },
     "execution_count": 54,
     "metadata": {},
     "output_type": "execute_result"
    }
   ],
   "source": [
    "set3 - set4"
   ]
  },
  {
   "cell_type": "code",
   "execution_count": 55,
   "id": "a1240fea",
   "metadata": {},
   "outputs": [
    {
     "data": {
      "text/plain": [
       "{1, 2, 6, 7}"
      ]
     },
     "execution_count": 55,
     "metadata": {},
     "output_type": "execute_result"
    }
   ],
   "source": [
    "set3 ^ set4"
   ]
  },
  {
   "cell_type": "code",
   "execution_count": 56,
   "id": "2f7075bc",
   "metadata": {},
   "outputs": [],
   "source": [
    "list_s = [1,2,3]\n",
    "tuple_s = (4,5,6)"
   ]
  },
  {
   "cell_type": "code",
   "execution_count": 57,
   "id": "3f42b286",
   "metadata": {},
   "outputs": [
    {
     "data": {
      "text/plain": [
       "{1, 2, 3}"
      ]
     },
     "execution_count": 57,
     "metadata": {},
     "output_type": "execute_result"
    }
   ],
   "source": [
    "set(list_s)"
   ]
  },
  {
   "cell_type": "code",
   "execution_count": 58,
   "id": "14768def",
   "metadata": {},
   "outputs": [
    {
     "data": {
      "text/plain": [
       "{4, 5, 6}"
      ]
     },
     "execution_count": 58,
     "metadata": {},
     "output_type": "execute_result"
    }
   ],
   "source": [
    "set(tuple_s)"
   ]
  },
  {
   "cell_type": "code",
   "execution_count": 59,
   "id": "aa1aa283",
   "metadata": {},
   "outputs": [
    {
     "data": {
      "text/plain": [
       "[1, 1, 2, 3, 4, 5]"
      ]
     },
     "execution_count": 59,
     "metadata": {},
     "output_type": "execute_result"
    }
   ],
   "source": [
    "list_s2 = [1,1,2,3,4,5]\n",
    "list_s2"
   ]
  },
  {
   "cell_type": "code",
   "execution_count": 60,
   "id": "5c635942",
   "metadata": {},
   "outputs": [
    {
     "data": {
      "text/plain": [
       "{1, 2, 3, 4, 5}"
      ]
     },
     "execution_count": 60,
     "metadata": {},
     "output_type": "execute_result"
    }
   ],
   "source": [
    "set(list_s2)"
   ]
  },
  {
   "cell_type": "code",
   "execution_count": 62,
   "id": "a20310fa",
   "metadata": {},
   "outputs": [],
   "source": [
    "val_a = 1\n",
    "val_b = val_a"
   ]
  },
  {
   "cell_type": "code",
   "execution_count": 63,
   "id": "cfe75499",
   "metadata": {},
   "outputs": [
    {
     "data": {
      "text/plain": [
       "1"
      ]
     },
     "execution_count": 63,
     "metadata": {},
     "output_type": "execute_result"
    }
   ],
   "source": [
    "val_a"
   ]
  },
  {
   "cell_type": "code",
   "execution_count": 64,
   "id": "d6cc47a4",
   "metadata": {},
   "outputs": [
    {
     "data": {
      "text/plain": [
       "1"
      ]
     },
     "execution_count": 64,
     "metadata": {},
     "output_type": "execute_result"
    }
   ],
   "source": [
    "val_b"
   ]
  },
  {
   "cell_type": "code",
   "execution_count": 65,
   "id": "f707ae0f",
   "metadata": {},
   "outputs": [],
   "source": [
    "val_a = val_a + 1"
   ]
  },
  {
   "cell_type": "code",
   "execution_count": 66,
   "id": "def8b0b1",
   "metadata": {},
   "outputs": [
    {
     "data": {
      "text/plain": [
       "2"
      ]
     },
     "execution_count": 66,
     "metadata": {},
     "output_type": "execute_result"
    }
   ],
   "source": [
    "val_a"
   ]
  },
  {
   "cell_type": "code",
   "execution_count": 67,
   "id": "a9efd161",
   "metadata": {},
   "outputs": [
    {
     "data": {
      "text/plain": [
       "1"
      ]
     },
     "execution_count": 67,
     "metadata": {},
     "output_type": "execute_result"
    }
   ],
   "source": [
    "val_b"
   ]
  },
  {
   "cell_type": "code",
   "execution_count": 68,
   "id": "21b6b8e8",
   "metadata": {},
   "outputs": [
    {
     "data": {
      "text/plain": [
       "4438483704"
      ]
     },
     "execution_count": 68,
     "metadata": {},
     "output_type": "execute_result"
    }
   ],
   "source": [
    "id(val_a)"
   ]
  },
  {
   "cell_type": "code",
   "execution_count": 69,
   "id": "130b8171",
   "metadata": {},
   "outputs": [
    {
     "data": {
      "text/plain": [
       "4438483672"
      ]
     },
     "execution_count": 69,
     "metadata": {},
     "output_type": "execute_result"
    }
   ],
   "source": [
    "id(val_b)"
   ]
  },
  {
   "cell_type": "code",
   "execution_count": 70,
   "id": "4c71d17f",
   "metadata": {},
   "outputs": [],
   "source": [
    "list_a = [1,2,3]"
   ]
  },
  {
   "cell_type": "code",
   "execution_count": 71,
   "id": "e41ff57b",
   "metadata": {},
   "outputs": [],
   "source": [
    "list_b = [1,2,3]"
   ]
  },
  {
   "cell_type": "code",
   "execution_count": 72,
   "id": "23babf9d",
   "metadata": {},
   "outputs": [],
   "source": [
    "list_a.append(4)"
   ]
  },
  {
   "cell_type": "code",
   "execution_count": 73,
   "id": "3006ab56",
   "metadata": {},
   "outputs": [
    {
     "data": {
      "text/plain": [
       "[1, 2, 3, 4]"
      ]
     },
     "execution_count": 73,
     "metadata": {},
     "output_type": "execute_result"
    }
   ],
   "source": [
    "list_a"
   ]
  },
  {
   "cell_type": "code",
   "execution_count": 74,
   "id": "c1ff5e3a",
   "metadata": {},
   "outputs": [
    {
     "data": {
      "text/plain": [
       "[1, 2, 3]"
      ]
     },
     "execution_count": 74,
     "metadata": {},
     "output_type": "execute_result"
    }
   ],
   "source": [
    "list_b"
   ]
  },
  {
   "cell_type": "code",
   "execution_count": 75,
   "id": "6a257328",
   "metadata": {},
   "outputs": [],
   "source": [
    "list_b = list_a"
   ]
  },
  {
   "cell_type": "code",
   "execution_count": 76,
   "id": "8b8f09d2",
   "metadata": {},
   "outputs": [
    {
     "data": {
      "text/plain": [
       "[1, 2, 3, 4]"
      ]
     },
     "execution_count": 76,
     "metadata": {},
     "output_type": "execute_result"
    }
   ],
   "source": [
    "list_b"
   ]
  },
  {
   "cell_type": "code",
   "execution_count": 77,
   "id": "50f9844a",
   "metadata": {},
   "outputs": [
    {
     "data": {
      "text/plain": [
       "4632909248"
      ]
     },
     "execution_count": 77,
     "metadata": {},
     "output_type": "execute_result"
    }
   ],
   "source": [
    "id(list_a)\n",
    "id(list_b)"
   ]
  },
  {
   "cell_type": "code",
   "execution_count": 78,
   "id": "792014a5",
   "metadata": {},
   "outputs": [
    {
     "data": {
      "text/plain": [
       "4632909248"
      ]
     },
     "execution_count": 78,
     "metadata": {},
     "output_type": "execute_result"
    }
   ],
   "source": [
    "id(list_a)"
   ]
  },
  {
   "cell_type": "code",
   "execution_count": 79,
   "id": "9d3d9461",
   "metadata": {},
   "outputs": [
    {
     "data": {
      "text/plain": [
       "4632909248"
      ]
     },
     "execution_count": 79,
     "metadata": {},
     "output_type": "execute_result"
    }
   ],
   "source": [
    "id(list_b)"
   ]
  },
  {
   "cell_type": "code",
   "execution_count": 83,
   "id": "6919567a",
   "metadata": {},
   "outputs": [],
   "source": [
    "list_a= [3,2,1]"
   ]
  },
  {
   "cell_type": "code",
   "execution_count": 85,
   "id": "fe988a85",
   "metadata": {},
   "outputs": [],
   "source": [
    "list_b = list_a"
   ]
  },
  {
   "cell_type": "code",
   "execution_count": 86,
   "id": "0dfb9af5",
   "metadata": {},
   "outputs": [
    {
     "data": {
      "text/plain": [
       "[3, 2, 1]"
      ]
     },
     "execution_count": 86,
     "metadata": {},
     "output_type": "execute_result"
    }
   ],
   "source": [
    "list_b"
   ]
  },
  {
   "cell_type": "code",
   "execution_count": 87,
   "id": "848216f1",
   "metadata": {},
   "outputs": [],
   "source": [
    "list_a.sort()"
   ]
  },
  {
   "cell_type": "code",
   "execution_count": 88,
   "id": "039a818e",
   "metadata": {},
   "outputs": [
    {
     "data": {
      "text/plain": [
       "[1, 2, 3]"
      ]
     },
     "execution_count": 88,
     "metadata": {},
     "output_type": "execute_result"
    }
   ],
   "source": [
    "list_a"
   ]
  },
  {
   "cell_type": "code",
   "execution_count": 89,
   "id": "6556199f",
   "metadata": {},
   "outputs": [
    {
     "data": {
      "text/plain": [
       "[1, 2, 3]"
      ]
     },
     "execution_count": 89,
     "metadata": {},
     "output_type": "execute_result"
    }
   ],
   "source": [
    "list_b"
   ]
  },
  {
   "cell_type": "code",
   "execution_count": 90,
   "id": "eb979743",
   "metadata": {},
   "outputs": [],
   "source": [
    "list_a= [3,2,1]\n",
    "list_b = list_a.copy()"
   ]
  },
  {
   "cell_type": "code",
   "execution_count": 91,
   "id": "17962d58",
   "metadata": {},
   "outputs": [],
   "source": [
    "list_a.append(4)"
   ]
  },
  {
   "cell_type": "code",
   "execution_count": 92,
   "id": "89c7e7a9",
   "metadata": {},
   "outputs": [
    {
     "data": {
      "text/plain": [
       "[3, 2, 1, 4]"
      ]
     },
     "execution_count": 92,
     "metadata": {},
     "output_type": "execute_result"
    }
   ],
   "source": [
    "list_a"
   ]
  },
  {
   "cell_type": "code",
   "execution_count": 93,
   "id": "a60d2a3e",
   "metadata": {},
   "outputs": [
    {
     "data": {
      "text/plain": [
       "[3, 2, 1]"
      ]
     },
     "execution_count": 93,
     "metadata": {},
     "output_type": "execute_result"
    }
   ],
   "source": [
    "list_b"
   ]
  },
  {
   "cell_type": "code",
   "execution_count": 94,
   "id": "790f46b5",
   "metadata": {},
   "outputs": [],
   "source": [
    "import copy\n",
    "list_a = [3,2,1]\n",
    "list_c = copy.copy(list_a)"
   ]
  },
  {
   "cell_type": "code",
   "execution_count": 95,
   "id": "ff705895",
   "metadata": {},
   "outputs": [
    {
     "data": {
      "text/plain": [
       "[3, 2, 1]"
      ]
     },
     "execution_count": 95,
     "metadata": {},
     "output_type": "execute_result"
    }
   ],
   "source": [
    "list_a"
   ]
  },
  {
   "cell_type": "code",
   "execution_count": 96,
   "id": "22de1af7",
   "metadata": {},
   "outputs": [],
   "source": [
    "list_a.sort()"
   ]
  },
  {
   "cell_type": "code",
   "execution_count": 97,
   "id": "6e37d5dd",
   "metadata": {},
   "outputs": [
    {
     "data": {
      "text/plain": [
       "[1, 2, 3]"
      ]
     },
     "execution_count": 97,
     "metadata": {},
     "output_type": "execute_result"
    }
   ],
   "source": [
    "list_a"
   ]
  },
  {
   "cell_type": "code",
   "execution_count": 98,
   "id": "fa402a36",
   "metadata": {},
   "outputs": [
    {
     "data": {
      "text/plain": [
       "[3, 2, 1]"
      ]
     },
     "execution_count": 98,
     "metadata": {},
     "output_type": "execute_result"
    }
   ],
   "source": [
    "list_c"
   ]
  },
  {
   "cell_type": "code",
   "execution_count": 101,
   "id": "e0710f1d",
   "metadata": {},
   "outputs": [],
   "source": [
    "list_complex=[1,2,3,[1,2]]"
   ]
  },
  {
   "cell_type": "code",
   "execution_count": 102,
   "id": "e8039932",
   "metadata": {},
   "outputs": [
    {
     "data": {
      "text/plain": [
       "[1, 2, 3, [1, 2]]"
      ]
     },
     "execution_count": 102,
     "metadata": {},
     "output_type": "execute_result"
    }
   ],
   "source": [
    "list_complex"
   ]
  },
  {
   "cell_type": "code",
   "execution_count": 103,
   "id": "d59ba829",
   "metadata": {},
   "outputs": [],
   "source": [
    "list_complex_shallow_copy = copy.copy(list_complex)\n",
    "list_complex_deep_copy = copy.deepcopy(list_complex)"
   ]
  },
  {
   "cell_type": "code",
   "execution_count": 104,
   "id": "1c59f3ed",
   "metadata": {},
   "outputs": [
    {
     "data": {
      "text/plain": [
       "[1, 2, 3, [1, 2]]"
      ]
     },
     "execution_count": 104,
     "metadata": {},
     "output_type": "execute_result"
    }
   ],
   "source": [
    "list_complex_shallow_copy"
   ]
  },
  {
   "cell_type": "code",
   "execution_count": 106,
   "id": "d5457965",
   "metadata": {},
   "outputs": [
    {
     "data": {
      "text/plain": [
       "[1, 2, 3, [1, 2]]"
      ]
     },
     "execution_count": 106,
     "metadata": {},
     "output_type": "execute_result"
    }
   ],
   "source": [
    "list_complex_deep_copy"
   ]
  },
  {
   "cell_type": "code",
   "execution_count": 107,
   "id": "ac31ecc0",
   "metadata": {},
   "outputs": [],
   "source": [
    "list_complex.append(1000)"
   ]
  },
  {
   "cell_type": "code",
   "execution_count": 108,
   "id": "f91b04ce",
   "metadata": {},
   "outputs": [
    {
     "data": {
      "text/plain": [
       "[1, 2, 3, [1, 2], 1000]"
      ]
     },
     "execution_count": 108,
     "metadata": {},
     "output_type": "execute_result"
    }
   ],
   "source": [
    "list_complex"
   ]
  },
  {
   "cell_type": "code",
   "execution_count": 109,
   "id": "c5672a07",
   "metadata": {},
   "outputs": [
    {
     "data": {
      "text/plain": [
       "[1, 2, 3, [1, 2]]"
      ]
     },
     "execution_count": 109,
     "metadata": {},
     "output_type": "execute_result"
    }
   ],
   "source": [
    "list_complex_shallow_copy"
   ]
  },
  {
   "cell_type": "code",
   "execution_count": 110,
   "id": "ed461d14",
   "metadata": {},
   "outputs": [
    {
     "data": {
      "text/plain": [
       "[1, 2, 3, [1, 2]]"
      ]
     },
     "execution_count": 110,
     "metadata": {},
     "output_type": "execute_result"
    }
   ],
   "source": [
    "list_complex_deep_copy"
   ]
  },
  {
   "cell_type": "code",
   "execution_count": 111,
   "id": "08bd4d66",
   "metadata": {},
   "outputs": [
    {
     "data": {
      "text/plain": [
       "[1, 2]"
      ]
     },
     "execution_count": 111,
     "metadata": {},
     "output_type": "execute_result"
    }
   ],
   "source": [
    "list_complex[3]"
   ]
  },
  {
   "cell_type": "code",
   "execution_count": 112,
   "id": "68bdd88c",
   "metadata": {},
   "outputs": [],
   "source": [
    "list_complex[3][0]=100"
   ]
  },
  {
   "cell_type": "code",
   "execution_count": 113,
   "id": "11d347d9",
   "metadata": {},
   "outputs": [
    {
     "data": {
      "text/plain": [
       "[100, 2]"
      ]
     },
     "execution_count": 113,
     "metadata": {},
     "output_type": "execute_result"
    }
   ],
   "source": [
    "list_complex[3]"
   ]
  },
  {
   "cell_type": "code",
   "execution_count": 114,
   "id": "a8cdd3fd",
   "metadata": {},
   "outputs": [
    {
     "data": {
      "text/plain": [
       "[1, 2, 3, [100, 2], 1000]"
      ]
     },
     "execution_count": 114,
     "metadata": {},
     "output_type": "execute_result"
    }
   ],
   "source": [
    "list_complex"
   ]
  },
  {
   "cell_type": "code",
   "execution_count": 116,
   "id": "f91ccfb6",
   "metadata": {},
   "outputs": [
    {
     "data": {
      "text/plain": [
       "[1, 2, 3, [100, 2]]"
      ]
     },
     "execution_count": 116,
     "metadata": {},
     "output_type": "execute_result"
    }
   ],
   "source": [
    "list_complex_shallow_copy"
   ]
  },
  {
   "cell_type": "code",
   "execution_count": 117,
   "id": "dd54e450",
   "metadata": {},
   "outputs": [
    {
     "data": {
      "text/plain": [
       "[1, 2, 3, [1, 2]]"
      ]
     },
     "execution_count": 117,
     "metadata": {},
     "output_type": "execute_result"
    }
   ],
   "source": [
    "list_complex_deep_copy"
   ]
  },
  {
   "cell_type": "code",
   "execution_count": 118,
   "id": "4defa34a",
   "metadata": {},
   "outputs": [
    {
     "name": "stdout",
     "output_type": "stream",
     "text": [
      "avove 300\n"
     ]
    }
   ],
   "source": [
    "gene_set1 = {'chr':1,'pos':324,'ref':'c','var':'t'}\n",
    "\n",
    "if gene_set1['pos']>=300:\n",
    "    print('avove 300')"
   ]
  },
  {
   "cell_type": "code",
   "execution_count": 121,
   "id": "4fa52648",
   "metadata": {},
   "outputs": [
    {
     "name": "stdout",
     "output_type": "stream",
     "text": [
      "above 200\n"
     ]
    }
   ],
   "source": [
    "gene_set1={'chr':1,'pos':222,'ref':'c','var':'t'}\n",
    "\n",
    "if gene_set1['pos']>=300:\n",
    "    print('above 300')\n",
    "\n",
    "elif gene_set1['pos']>=200:\n",
    "    print('above 200')\n",
    "\n",
    "else:\n",
    "    print('ubder 200')"
   ]
  },
  {
   "cell_type": "code",
   "execution_count": 126,
   "id": "9346f1a3",
   "metadata": {},
   "outputs": [
    {
     "name": "stdout",
     "output_type": "stream",
     "text": [
      "half success\n"
     ]
    }
   ],
   "source": [
    "x = 300\n",
    "y = 200\n",
    "\n",
    "if x >= 300 and y > 200:\n",
    "    print ('success')\n",
    "\n",
    "elif x >= 300 or y > 200:\n",
    "    print('half success')"
   ]
  },
  {
   "cell_type": "code",
   "execution_count": 127,
   "id": "9de32369",
   "metadata": {},
   "outputs": [
    {
     "name": "stdout",
     "output_type": "stream",
     "text": [
      "success\n"
     ]
    }
   ],
   "source": [
    "x = 150\n",
    "y = 150\n",
    "\n",
    "if not x >= 300 and not y >= 200:\n",
    "    print('success')"
   ]
  },
  {
   "cell_type": "code",
   "execution_count": null,
   "id": "250ee493",
   "metadata": {},
   "outputs": [],
   "source": []
  }
 ],
 "metadata": {
  "kernelspec": {
   "display_name": "jupyter_env",
   "language": "python",
   "name": "python3"
  },
  "language_info": {
   "codemirror_mode": {
    "name": "ipython",
    "version": 3
   },
   "file_extension": ".py",
   "mimetype": "text/x-python",
   "name": "python",
   "nbconvert_exporter": "python",
   "pygments_lexer": "ipython3",
   "version": "3.12.8"
  }
 },
 "nbformat": 4,
 "nbformat_minor": 5
}
